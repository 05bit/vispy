{
 "metadata": {
  "name": "",
  "signature": "sha256:45db16e59de79e2b845ae3044ac5af9e7c77ea71efa482fb1ace177b30a1f137"
 },
 "nbformat": 3,
 "nbformat_minor": 0,
 "worksheets": [
  {
   "cells": [
    {
     "cell_type": "markdown",
     "metadata": {},
     "source": [
      "# VisPy colormaps"
     ]
    },
    {
     "cell_type": "markdown",
     "metadata": {},
     "source": [
      "This notebook illustrates the colormap API provided by VisPy."
     ]
    },
    {
     "cell_type": "markdown",
     "metadata": {},
     "source": [
      "## List all colormaps"
     ]
    },
    {
     "cell_type": "code",
     "collapsed": false,
     "input": [
      "import numpy as np\n",
      "from vispy.color import (get_colormap, get_colormaps, Colormap)\n",
      "from IPython.display import display_html"
     ],
     "language": "python",
     "metadata": {},
     "outputs": []
    },
    {
     "cell_type": "code",
     "collapsed": false,
     "input": [
      "for cmap in get_colormaps():\n",
      "    display_html('<h3>%s</h3>' % cmap, raw=True)\n",
      "    display_html(get_colormap(cmap))"
     ],
     "language": "python",
     "metadata": {},
     "outputs": []
    },
    {
     "cell_type": "markdown",
     "metadata": {},
     "source": [
      "## Discrete colormaps"
     ]
    },
    {
     "cell_type": "markdown",
     "metadata": {},
     "source": [
      "Discrete colormaps can be created by giving a list of colors, and an optional list of control points (in $[0,1]$, the first and last points need to be $0$ and $1$ respectively). The colors can be specified in many ways (1-character shortcuts, hexadecimal values, arrays or RGB values, `ColorArray` instances, and so on)."
     ]
    },
    {
     "cell_type": "code",
     "collapsed": false,
     "input": [
      "Colormap(['r', 'g', 'b'], interpolation='discrete')"
     ],
     "language": "python",
     "metadata": {},
     "outputs": []
    },
    {
     "cell_type": "code",
     "collapsed": false,
     "input": [
      "Colormap(['r', 'g', 'y'], interpolation='discrete')"
     ],
     "language": "python",
     "metadata": {},
     "outputs": []
    },
    {
     "cell_type": "code",
     "collapsed": false,
     "input": [
      "Colormap(np.array([[0, .75, 0],\n",
      "                   [.75, .25, .5]]), \n",
      "         [0., .25, 1.], \n",
      "         interpolation='discrete')"
     ],
     "language": "python",
     "metadata": {},
     "outputs": []
    },
    {
     "cell_type": "code",
     "collapsed": false,
     "input": [
      "Colormap(['r', 'g', '#123456'],\n",
      "         interpolation='discrete')"
     ],
     "language": "python",
     "metadata": {},
     "outputs": []
    },
    {
     "cell_type": "markdown",
     "metadata": {},
     "source": [
      "## Linear gradients"
     ]
    },
    {
     "cell_type": "code",
     "collapsed": false,
     "input": [
      "Colormap(['r', 'g', '#123456'])"
     ],
     "language": "python",
     "metadata": {},
     "outputs": []
    },
    {
     "cell_type": "code",
     "collapsed": false,
     "input": [
      "Colormap([[1,0,0], [1,1,1], [1,0,1]], \n",
      "               [0., .75, 1.])"
     ],
     "language": "python",
     "metadata": {},
     "outputs": []
    }
   ],
   "metadata": {}
  }
 ]
}