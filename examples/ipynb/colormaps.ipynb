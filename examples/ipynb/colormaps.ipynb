{
 "metadata": {
  "name": "",
  "signature": "sha256:001384b7dd1794de36e194f5205b1c7156ee3832a9f7f0fe8db610938d1cbda4"
 },
 "nbformat": 3,
 "nbformat_minor": 0,
 "worksheets": [
  {
   "cells": [
    {
     "cell_type": "markdown",
     "metadata": {},
     "source": [
      "# VisPy colormaps"
     ]
    },
    {
     "cell_type": "markdown",
     "metadata": {},
     "source": [
      "This notebook illustrates the colormap API provided by VisPy."
     ]
    },
    {
     "cell_type": "markdown",
     "metadata": {},
     "source": [
      "## List all colormaps"
     ]
    },
    {
     "cell_type": "code",
     "collapsed": false,
     "input": [
      "import numpy as np\n",
      "from vispy.color import (get_colormap, get_colormaps, \n",
      "                         DiscreteColormap, LinearColormap)\n",
      "from IPython.display import display_html"
     ],
     "language": "python",
     "metadata": {},
     "outputs": []
    },
    {
     "cell_type": "code",
     "collapsed": false,
     "input": [
      "for cmap in get_colormaps():\n",
      "    display_html('<h3>%s</h3>' % cmap, raw=True)\n",
      "    display_html(get_colormap(cmap))"
     ],
     "language": "python",
     "metadata": {},
     "outputs": []
    },
    {
     "cell_type": "markdown",
     "metadata": {},
     "source": [
      "## Discrete colormaps"
     ]
    },
    {
     "cell_type": "markdown",
     "metadata": {},
     "source": [
      "Discrete colormaps can be created by giving a list of colors, and an optional list of control points (in $[0,1]$, the first and last points need to be $0$ and $1$ respectively). The colors can be specified in many ways (1-character shortcuts, hexadecimal values, arrays or RGB values, `ColorArray` instances, and so on)."
     ]
    },
    {
     "cell_type": "code",
     "collapsed": false,
     "input": [
      "DiscreteColormap(['r', 'g', 'b'])"
     ],
     "language": "python",
     "metadata": {},
     "outputs": []
    },
    {
     "cell_type": "code",
     "collapsed": false,
     "input": [
      "DiscreteColormap(['r', 'g', 'y'])"
     ],
     "language": "python",
     "metadata": {},
     "outputs": []
    },
    {
     "cell_type": "code",
     "collapsed": false,
     "input": [
      "DiscreteColormap(np.array([[0, .75, 0],\n",
      "                           [.75, .25, .5]]), [0., .25, 1.])"
     ],
     "language": "python",
     "metadata": {},
     "outputs": []
    },
    {
     "cell_type": "code",
     "collapsed": false,
     "input": [
      "DiscreteColormap(['r', 'g', '#123456'])"
     ],
     "language": "python",
     "metadata": {},
     "outputs": []
    },
    {
     "cell_type": "markdown",
     "metadata": {},
     "source": [
      "## Linear gradients"
     ]
    },
    {
     "cell_type": "code",
     "collapsed": false,
     "input": [
      "LinearColormap(['r', 'g', '#123456'])"
     ],
     "language": "python",
     "metadata": {},
     "outputs": []
    },
    {
     "cell_type": "code",
     "collapsed": false,
     "input": [
      "LinearColormap([[1,0,0], [1,1,1], [1,0,1]], \n",
      "               [0., .75, 1.])"
     ],
     "language": "python",
     "metadata": {},
     "outputs": []
    }
   ],
   "metadata": {}
  }
 ]
}