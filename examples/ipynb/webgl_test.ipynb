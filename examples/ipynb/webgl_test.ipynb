{
 "metadata": {
  "name": "",
  "signature": "sha256:5ca9f3b8a2a7c0cb9bc2de95e1c454102715f89513d80978b6c9bf82dd445b93"
 },
 "nbformat": 3,
 "nbformat_minor": 0,
 "worksheets": [
  {
   "cells": [
    {
     "cell_type": "code",
     "collapsed": false,
     "input": [
      "import imp\n",
      "import vispy\n",
      "from vispy import app\n",
      "import vispy.app.backends._ipynb_webgl\n",
      "imp.reload(vispy)\n",
      "vispy.app.backends._ipynb_webgl._prepare_js()\n",
      "app.use_app('ipynb_webgl');"
     ],
     "language": "python",
     "metadata": {},
     "outputs": []
    },
    {
     "cell_type": "raw",
     "metadata": {},
     "source": [
      "imp.reload(vispy.app.backends._ipynb_webgl)\n",
      "vispy.app.backends._ipynb_webgl._prepare_js()\n",
      "def f(e):\n",
      "    print(e)\n",
      "vispy.app.backends._ipynb_webgl.VispyWidget(f)"
     ]
    },
    {
     "cell_type": "code",
     "collapsed": false,
     "input": [
      "c = vispy.app.Canvas()\n",
      "@c.connect\n",
      "def on_paint(e):\n",
      "    print(e)"
     ],
     "language": "python",
     "metadata": {},
     "outputs": []
    },
    {
     "cell_type": "code",
     "collapsed": false,
     "input": [],
     "language": "python",
     "metadata": {},
     "outputs": []
    }
   ],
   "metadata": {}
  }
 ]
}