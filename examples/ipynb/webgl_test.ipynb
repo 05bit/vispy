{
 "metadata": {
  "name": "",
  "signature": "sha256:f390ce52640b136451426bf270cacb3e0d1e9c7b2359f833ca81be7c460e5e1b"
 },
 "nbformat": 3,
 "nbformat_minor": 0,
 "worksheets": [
  {
   "cells": [
    {
     "cell_type": "code",
     "collapsed": false,
     "input": [
      "import imp\n",
      "import vispy\n",
      "from vispy import app\n",
      "import vispy.app.backends._ipynb_webgl\n",
      "imp.reload(vispy)\n",
      "vispy.app.backends._ipynb_webgl._prepare_js()"
     ],
     "language": "python",
     "metadata": {},
     "outputs": []
    },
    {
     "cell_type": "code",
     "collapsed": false,
     "input": [
      "app.use_app('ipynb_webgl');"
     ],
     "language": "python",
     "metadata": {},
     "outputs": []
    },
    {
     "cell_type": "code",
     "collapsed": false,
     "input": [
      "imp.reload(vispy.app.backends._ipynb_webgl)\n",
      "vispy.app.backends._ipynb_webgl.VispyWidget(None)"
     ],
     "language": "python",
     "metadata": {},
     "outputs": []
    },
    {
     "cell_type": "raw",
     "metadata": {},
     "source": [
      "%%javascript\n",
      "require([\"widgets/js/widget\", \"widgets/js/manager\"],\n",
      "function(widget, manager){\n",
      "    var VispyView = IPython.DOMWidgetView.extend({\n",
      "        render: function(){ \n",
      "\n",
      "            var canvas = $('<canvas></canvas>');\n",
      "            canvas.css('width', '500px').css('height', '200px');\n",
      "            this.$el.append(canvas);\n",
      "\n",
      "            var c = vispy.init(canvas);\n",
      "            c.call(['FUNC', 'clearColor', 0, 0, 0, 1]);\n",
      "            c.call(['FUNC', 'clear', 'COLOR_BUFFER_BIT | DEPTH_BUFFER_BIT']);\n",
      "            \n",
      "            this.c = c;\n",
      "        },\n",
      "        \n",
      "        on_msg: function(e) {\n",
      "            this.send_events();\n",
      "        },\n",
      "        \n",
      "        send_events: function(){\n",
      "            // Retrieve and flush the event queue.\n",
      "            var events = this.c.event_queue.get();\n",
      "            this.c.event_queue.clear();\n",
      "            // Create the message.\n",
      "            var msg = {\n",
      "                msg_type: 'events',\n",
      "                contents: events\n",
      "            };\n",
      "            // Send the message.\n",
      "            this.send(msg);\n",
      "        },\n",
      "    });\n",
      "\n",
      "    IPython.WidgetManager.register_widget_view('VispyView', VispyView);\n",
      "});"
     ]
    },
    {
     "cell_type": "code",
     "collapsed": false,
     "input": [],
     "language": "python",
     "metadata": {},
     "outputs": []
    }
   ],
   "metadata": {}
  }
 ]
}