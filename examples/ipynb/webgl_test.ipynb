{
 "metadata": {
  "name": "",
  "signature": "sha256:562a0fff9b10cf6b2da50991c54e8764f4ff23d36c531122f7f152c9ed88c934"
 },
 "nbformat": 3,
 "nbformat_minor": 0,
 "worksheets": [
  {
   "cells": [
    {
     "cell_type": "code",
     "collapsed": false,
     "input": [
      "import numpy as np\n",
      "import vispy\n",
      "import vispy.gloo as gloo\n",
      "from vispy import app\n",
      "app.use_app('ipynb_webgl');"
     ],
     "language": "python",
     "metadata": {},
     "outputs": []
    },
    {
     "cell_type": "code",
     "collapsed": false,
     "input": [
      "vertex = \"\"\"\n",
      "attribute vec2 a_position;\n",
      "void main()\n",
      "{\n",
      "    gl_Position = vec4(a_position, 0.0, 1.0);\n",
      "}\n",
      "\"\"\"\n",
      "\n",
      "fragment = \"\"\"\n",
      "void main() {\n",
      "    gl_FragColor = vec4(1., 1., 1., 1.);\n",
      "}\n",
      "\"\"\""
     ],
     "language": "python",
     "metadata": {},
     "outputs": []
    },
    {
     "cell_type": "code",
     "collapsed": false,
     "input": [
      "c = vispy.app.Canvas(size=(500, 200))\n",
      "c.program = vispy.gloo.Program(vertex, fragment)\n",
      "c.program['a_position'] = np.array([[-.5, -.5], \n",
      "                                    [.5, -.5], \n",
      "                                    [.5, .5]], \n",
      "                                   dtype=np.float32)\n",
      "\n",
      "@c.connect\n",
      "def on_draw(e):\n",
      "    gloo.clear((0,0,0,1))\n",
      "    gloo.set_viewport((0, 0, c.size[0], c.size[1]))\n",
      "    c.program.draw(\"TRIANGLE_STRIP\")\n",
      "    \n",
      "c.show()"
     ],
     "language": "python",
     "metadata": {},
     "outputs": []
    },
    {
     "cell_type": "code",
     "collapsed": false,
     "input": [
      "# Generate GLIR commands in JavaScript, useful for offline debugging.\n",
      "def _gen_js_commands(c):\n",
      "    from vispy.app.backends._ipynb_webgl import _serializable\n",
      "    commands = _serializable(c.context.glir.parser.commands)\n",
      "    return \"\\n\".join([\"c.command(%s);\" % str(list(command)).replace(r'\\n', ' \\\\\\n')\n",
      "                      for command in commands])\n",
      "print(_gen_js_commands(c))"
     ],
     "language": "python",
     "metadata": {},
     "outputs": []
    },
    {
     "cell_type": "code",
     "collapsed": false,
     "input": [],
     "language": "python",
     "metadata": {},
     "outputs": []
    }
   ],
   "metadata": {}
  }
 ]
}