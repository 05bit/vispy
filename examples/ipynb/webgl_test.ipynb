{
 "metadata": {
  "name": "",
  "signature": "sha256:323fc2a4c8eeaeadf79e18218fa4acb9b06977fb903f8320b4d2cf41e06768a3"
 },
 "nbformat": 3,
 "nbformat_minor": 0,
 "worksheets": [
  {
   "cells": [
    {
     "cell_type": "code",
     "collapsed": false,
     "input": [
      "import imp\n",
      "import vispy\n",
      "from vispy import app\n",
      "import vispy.app.backends._ipynb_webgl\n",
      "imp.reload(vispy)\n",
      "vispy.app.backends._ipynb_webgl._prepare_js()"
     ],
     "language": "python",
     "metadata": {},
     "outputs": []
    },
    {
     "cell_type": "code",
     "collapsed": false,
     "input": [
      "app.use_app('ipynb_webgl');"
     ],
     "language": "python",
     "metadata": {},
     "outputs": []
    },
    {
     "cell_type": "code",
     "collapsed": false,
     "input": [
      "imp.reload(vispy.app.backends._ipynb_webgl)\n",
      "vispy.app.backends._ipynb_webgl.VispyWidget(None)"
     ],
     "language": "python",
     "metadata": {},
     "outputs": []
    },
    {
     "cell_type": "code",
     "collapsed": false,
     "input": [],
     "language": "python",
     "metadata": {},
     "outputs": []
    }
   ],
   "metadata": {}
  }
 ]
}