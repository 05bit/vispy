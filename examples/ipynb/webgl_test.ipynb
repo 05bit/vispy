{
 "metadata": {
  "name": "",
  "signature": "sha256:f233c00ee73ac2a041b38c8c9d27fcb6dc1c3e3e55c367ccb2082ecaf25e1114"
 },
 "nbformat": 3,
 "nbformat_minor": 0,
 "worksheets": [
  {
   "cells": [
    {
     "cell_type": "code",
     "collapsed": false,
     "input": [
      "import numpy as np\n",
      "import vispy\n",
      "import vispy.gloo as gloo\n",
      "from vispy import app\n",
      "app.use_app('ipynb_webgl');"
     ],
     "language": "python",
     "metadata": {},
     "outputs": []
    },
    {
     "cell_type": "code",
     "collapsed": false,
     "input": [
      "vertex = \"\"\"\n",
      "attribute vec2 a_position;\n",
      "uniform vec3 u_color;\n",
      "void main()\n",
      "{\n",
      "    gl_Position = vec4(a_position, 0.0, 1.0);\n",
      "}\n",
      "\"\"\"\n",
      "\n",
      "fragment = \"\"\"\n",
      "uniform vec3 u_color;\n",
      "void main() {\n",
      "    gl_FragColor = vec4(u_color, 1.);\n",
      "}\n",
      "\"\"\""
     ],
     "language": "python",
     "metadata": {},
     "outputs": []
    },
    {
     "cell_type": "code",
     "collapsed": false,
     "input": [
      "c = vispy.app.Canvas(size=(500, 200))\n",
      "c.program = vispy.gloo.Program(vertex, fragment)\n",
      "c.program['a_position'] = np.array([[-.5, -.5], \n",
      "                                    [.5, -.5], \n",
      "                                    [.5, .5]], \n",
      "                                   dtype=np.float32)\n",
      "c.program['u_color'] = (1., 0., 0.)\n",
      "\n",
      "@c.connect\n",
      "def on_mouse_move(e):\n",
      "    r = e.pos[0] / float(c.size[0])\n",
      "    g = e.pos[1] / float(c.size[1])\n",
      "    c.program['u_color'] = (r, g, 1.)\n",
      "    c.update()\n",
      "    \n",
      "@c.connect\n",
      "def on_draw(e):\n",
      "    gloo.clear((0,0,0,1))\n",
      "    c.program.draw(\"triangle_strip\")\n",
      "    \n",
      "@c.connect\n",
      "def on_resize(e):\n",
      "    gloo.set_viewport((0, 0, e.size[0], e.size[1]))\n",
      "    c.update()\n",
      "    \n",
      "c.show()"
     ],
     "language": "python",
     "metadata": {},
     "outputs": []
    },
    {
     "cell_type": "code",
     "collapsed": false,
     "input": [
      "# Generate GLIR commands in JavaScript, useful for offline debugging.\n",
      "def _gen_js_commands(c):\n",
      "    from vispy.app.backends._ipynb_webgl import _serializable\n",
      "    commands = _serializable(c.context.glir.parser.commands)\n",
      "    return \"\\n\".join([\"c.command(%s);\" % str(list(command)).replace(r'\\n', ' \\\\\\n')\n",
      "                      for command in commands])\n",
      "print(_gen_js_commands(c))"
     ],
     "language": "python",
     "metadata": {},
     "outputs": []
    },
    {
     "cell_type": "code",
     "collapsed": false,
     "input": [],
     "language": "python",
     "metadata": {},
     "outputs": []
    }
   ],
   "metadata": {}
  }
 ]
}