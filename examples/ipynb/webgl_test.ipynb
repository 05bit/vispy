{
 "metadata": {
  "name": "",
  "signature": "sha256:794b73b86494dd13c32ffc7bf2e676d39501bde35bc45ff7762d4bde5840f40d"
 },
 "nbformat": 3,
 "nbformat_minor": 0,
 "worksheets": [
  {
   "cells": [
    {
     "cell_type": "raw",
     "metadata": {},
     "source": [
      "imp.reload(vispy.app.backends._ipynb_webgl)\n",
      "vispy.app.backends._ipynb_webgl._prepare_js()\n",
      "def f(e):\n",
      "    print(e)\n",
      "vispy.app.backends._ipynb_webgl.VispyWidget(f)"
     ]
    },
    {
     "cell_type": "code",
     "collapsed": false,
     "input": [
      "import imp\n",
      "import vispy\n",
      "from vispy import app\n",
      "import vispy.app.backends._ipynb_webgl\n",
      "imp.reload(vispy)\n",
      "vispy.app.backends._ipynb_webgl._prepare_js()\n",
      "app.use_app('ipynb_webgl');"
     ],
     "language": "python",
     "metadata": {},
     "outputs": []
    },
    {
     "cell_type": "code",
     "collapsed": false,
     "input": [
      "c = vispy.app.Canvas()\n",
      "@c.connect\n",
      "def on_draw(e):\n",
      "    print(e)"
     ],
     "language": "python",
     "metadata": {},
     "outputs": []
    },
    {
     "cell_type": "code",
     "collapsed": false,
     "input": [
      "c.show()"
     ],
     "language": "python",
     "metadata": {},
     "outputs": []
    }
   ],
   "metadata": {}
  }
 ]
}