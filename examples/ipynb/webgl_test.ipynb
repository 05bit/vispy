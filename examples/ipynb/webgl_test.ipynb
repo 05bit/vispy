{
 "metadata": {
  "name": "",
  "signature": "sha256:1bdf16d17a890d63cf676e000d1bd7747205d96b9fd47ea459debb1ecf4cce14"
 },
 "nbformat": 3,
 "nbformat_minor": 0,
 "worksheets": [
  {
   "cells": [
    {
     "cell_type": "code",
     "collapsed": false,
     "input": [
      "import imp\n",
      "import numpy as np\n",
      "import vispy\n",
      "import vispy.gloo as gloo\n",
      "from vispy import app\n",
      "app.use_app('ipynb_webgl');"
     ],
     "language": "python",
     "metadata": {},
     "outputs": []
    },
    {
     "cell_type": "code",
     "collapsed": false,
     "input": [
      "c = vispy.app.Canvas(size=(500, 200))\n",
      "@c.connect\n",
      "def on_mouse_move(e):\n",
      "    x, y = e.pos\n",
      "    r = np.clip(x/float(c.size[0]), 0, 1)\n",
      "    g = np.clip(y/float(c.size[1]), 0, 1)\n",
      "    gloo.clear((r, g, 0., 1.))\n",
      "    c.update()\n",
      "c.show()"
     ],
     "language": "python",
     "metadata": {},
     "outputs": []
    }
   ],
   "metadata": {}
  }
 ]
}