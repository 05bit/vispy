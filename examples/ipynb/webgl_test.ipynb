{
 "metadata": {
  "name": "",
  "signature": "sha256:377daf11c3b385a3ea877580a11af7c6774a2ffce98be8c28beeccd4bd16dd4e"
 },
 "nbformat": 3,
 "nbformat_minor": 0,
 "worksheets": [
  {
   "cells": [
    {
     "cell_type": "code",
     "collapsed": false,
     "input": [
      "import imp\n",
      "import numpy as np\n",
      "import vispy\n",
      "import vispy.gloo as gloo\n",
      "from vispy import app\n",
      "import vispy.app.backends._ipynb_webgl\n",
      "imp.reload(vispy)\n",
      "vispy.app.backends._ipynb_webgl._prepare_js()\n",
      "app.use_app('ipynb_webgl');"
     ],
     "language": "python",
     "metadata": {},
     "outputs": []
    },
    {
     "cell_type": "code",
     "collapsed": false,
     "input": [
      "c = vispy.app.Canvas(size=(500, 200))\n",
      "@c.connect\n",
      "def on_mouse_move(e):\n",
      "    x, y = e.pos\n",
      "    gloo.clear((x/float(c.size[0]), y/(c.size[1]), 0., 1.))\n",
      "    c.update()\n",
      "c.show()"
     ],
     "language": "python",
     "metadata": {},
     "outputs": []
    },
    {
     "cell_type": "code",
     "collapsed": false,
     "input": [],
     "language": "python",
     "metadata": {},
     "outputs": []
    }
   ],
   "metadata": {}
  }
 ]
}