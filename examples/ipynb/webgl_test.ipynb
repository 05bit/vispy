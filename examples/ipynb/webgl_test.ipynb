{
 "metadata": {
  "name": "",
  "signature": "sha256:103969aa4fb3ab80610e3a06f398c4b394f429e0c547d0e087dd231a7779c499"
 },
 "nbformat": 3,
 "nbformat_minor": 0,
 "worksheets": [
  {
   "cells": [
    {
     "cell_type": "code",
     "collapsed": false,
     "input": [
      "import numpy as np\n",
      "import vispy\n",
      "import vispy.gloo as gloo\n",
      "from vispy import app\n",
      "from vispy.util.transforms import perspective, translate, rotate\n",
      "app.use_app('ipynb_webgl');"
     ],
     "language": "python",
     "metadata": {},
     "outputs": []
    },
    {
     "cell_type": "code",
     "collapsed": false,
     "input": [
      "n = 100\n",
      "a_position = np.random.uniform(-1, 1, (n, 3)).astype(np.float32)\n",
      "a_id = np.random.randint(0, 30, (n, 1))\n",
      "a_id = np.sort(a_id, axis=0).astype(np.float32)"
     ],
     "language": "python",
     "metadata": {},
     "outputs": []
    },
    {
     "cell_type": "code",
     "collapsed": false,
     "input": [
      "VERT_SHADER = \"\"\"\n",
      "uniform mat4 u_model;\n",
      "uniform mat4 u_view;\n",
      "uniform mat4 u_projection;\n",
      "attribute vec3 a_position;\n",
      "attribute float a_id;\n",
      "varying float v_id;\n",
      "void main (void) {\n",
      "    v_id = a_id;\n",
      "    gl_Position = u_projection * u_view * u_model * vec4(a_position,1.0);\n",
      "}\n",
      "\"\"\"\n",
      "\n",
      "FRAG_SHADER = \"\"\"\n",
      "varying float v_id;\n",
      "void main()\n",
      "{\n",
      "    float f = fract(v_id);\n",
      "    // The second useless test is needed on OSX 10.8 (fuck)\n",
      "    if( (f > 0.0001) && (f < .9999) )\n",
      "        discard;\n",
      "    else\n",
      "        gl_FragColor = vec4(0,0,0,1);\n",
      "}\n",
      "\"\"\""
     ],
     "language": "python",
     "metadata": {},
     "outputs": []
    },
    {
     "cell_type": "code",
     "collapsed": false,
     "input": [
      "class Canvas(app.Canvas):\n",
      "    def on_initialize(self, event):\n",
      "        self.program = gloo.Program(VERT_SHADER, FRAG_SHADER)\n",
      "\n",
      "        # Set uniform and attribute\n",
      "        self.program['a_id'] = gloo.VertexBuffer(a_id)\n",
      "        self.program['a_position'] = gloo.VertexBuffer(a_position)\n",
      "\n",
      "        self.view = np.eye(4, dtype=np.float32)\n",
      "        self.model = np.eye(4, dtype=np.float32)\n",
      "        self.projection = np.eye(4, dtype=np.float32)\n",
      "\n",
      "        self.translate = 5\n",
      "        translate(self.view, 0, 0, -self.translate)\n",
      "        self.program['u_model'] = self.model\n",
      "        self.program['u_view'] = self.view\n",
      "\n",
      "        self.theta = 0\n",
      "        self.phi = 0\n",
      "\n",
      "        gloo.set_clear_color('white')\n",
      "        gloo.set_state('translucent')\n",
      "        \n",
      "        self.timer = app.Timer('auto', connect=self.on_timer, \n",
      "                               start=True)\n",
      "\n",
      "    def on_timer(self, event):\n",
      "        self.theta += .5\n",
      "        self.phi += .5\n",
      "        self.model = np.eye(4, dtype=np.float32)\n",
      "        rotate(self.model, self.theta, 0, 0, 1)\n",
      "        rotate(self.model, self.phi, 0, 1, 0)\n",
      "        self.program['u_model'] = self.model\n",
      "        self.update()\n",
      "\n",
      "    def on_resize(self, event):\n",
      "        width, height = event.size\n",
      "        gloo.set_viewport(0, 0, width, height)\n",
      "        self.projection = perspective(45.0, width / float(height), 1.0, 1000.0)\n",
      "        self.program['u_projection'] = self.projection\n",
      "        \n",
      "    def on_mouse_wheel(self, event):\n",
      "        self.translate += event.delta[1]\n",
      "        self.translate = max(2, self.translate)\n",
      "        self.view = np.eye(4, dtype=np.float32)\n",
      "        translate(self.view, 0, 0, -self.translate)\n",
      "        self.program['u_view'] = self.view\n",
      "        self.update()\n",
      "\n",
      "    def on_draw(self, event):\n",
      "        gloo.clear()\n",
      "        self.program.draw('line_strip')"
     ],
     "language": "python",
     "metadata": {},
     "outputs": []
    },
    {
     "cell_type": "code",
     "collapsed": false,
     "input": [
      "c = Canvas(size=(300, 300))\n",
      "c.show()"
     ],
     "language": "python",
     "metadata": {},
     "outputs": []
    },
    {
     "cell_type": "code",
     "collapsed": false,
     "input": [
      "c.timer.stop()"
     ],
     "language": "python",
     "metadata": {},
     "outputs": []
    }
   ],
   "metadata": {}
  }
 ]
}