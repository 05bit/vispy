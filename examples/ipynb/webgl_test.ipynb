{
 "metadata": {
  "name": "",
  "signature": "sha256:038050120b0016722dc98d97e8c0df1dea8b1cb0adffd2279b37f9b3a6a05f9b"
 },
 "nbformat": 3,
 "nbformat_minor": 0,
 "worksheets": [
  {
   "cells": [
    {
     "cell_type": "code",
     "collapsed": false,
     "input": [
      "import numpy as np\n",
      "import vispy\n",
      "import vispy.gloo as gloo\n",
      "from vispy import app\n",
      "app.use_app('ipynb_webgl');"
     ],
     "language": "python",
     "metadata": {},
     "outputs": []
    },
    {
     "cell_type": "code",
     "collapsed": false,
     "input": [
      "vertex = \"\"\"\n",
      "attribute vec2 a_position;\n",
      "void main()\n",
      "{\n",
      "    gl_Position = vec4(a_position, 0.0, 1.0);\n",
      "}\n",
      "\"\"\"\n",
      "\n",
      "fragment = \"\"\"\n",
      "void main() {\n",
      "    gl_FragColor = vec4(1., 1., 1., 1.);\n",
      "}\n",
      "\"\"\""
     ],
     "language": "python",
     "metadata": {},
     "outputs": []
    },
    {
     "cell_type": "code",
     "collapsed": false,
     "input": [
      "program = vispy.gloo.Program(vertex, fragment)\n",
      "program['a_position'] = np.array([-.5, -.5, .5, -.5, .5, .5], \n",
      "                                 dtype=np.float32)"
     ],
     "language": "python",
     "metadata": {},
     "outputs": []
    },
    {
     "cell_type": "code",
     "collapsed": false,
     "input": [
      "c = vispy.app.Canvas(size=(500, 200))\n",
      "\n",
      "@c.connect\n",
      "def on_mouse_move(e):\n",
      "    x, y = e.pos\n",
      "    r = np.clip(x/float(c.size[0]), 0, 1)\n",
      "    g = np.clip(y/float(c.size[1]), 0, 1)\n",
      "    gloo.set_clear_color((r, g, 0., 1.))\n",
      "    gloo.clear()\n",
      "    c.update()\n",
      "        \n",
      "@c.connect\n",
      "def on_draw(e):\n",
      "    pass\n",
      "\n",
      "c.show()"
     ],
     "language": "python",
     "metadata": {},
     "outputs": []
    },
    {
     "cell_type": "code",
     "collapsed": false,
     "input": [],
     "language": "python",
     "metadata": {},
     "outputs": []
    },
    {
     "cell_type": "code",
     "collapsed": false,
     "input": [],
     "language": "python",
     "metadata": {},
     "outputs": []
    }
   ],
   "metadata": {}
  }
 ]
}