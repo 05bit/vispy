{
 "metadata": {
  "name": "",
  "signature": "sha256:2e1e49383041cb3c3d9649efc9874284cce016e35a9b7ba5d1d8c672739c8e0e"
 },
 "nbformat": 3,
 "nbformat_minor": 0,
 "worksheets": [
  {
   "cells": [
    {
     "cell_type": "code",
     "collapsed": false,
     "input": [
      "import imp\n",
      "import numpy as np\n",
      "import vispy\n",
      "import vispy.gloo as gloo\n",
      "from vispy import app\n",
      "app.use_app('ipynb_webgl');"
     ],
     "language": "python",
     "metadata": {},
     "outputs": []
    },
    {
     "cell_type": "code",
     "collapsed": false,
     "input": [
      "c = vispy.app.Canvas(size=(500, 200))\n",
      "@c.connect\n",
      "def on_mouse_move(e):\n",
      "    if e.is_dragging:\n",
      "        x, y = e.pos\n",
      "        r = np.clip(x/float(c.size[0]), 0, 1)\n",
      "        g = np.clip(y/float(c.size[1]), 0, 1)\n",
      "        gloo.clear((r, g, 0., 1.))\n",
      "        c.update()\n",
      "c.show()"
     ],
     "language": "python",
     "metadata": {},
     "outputs": []
    },
    {
     "cell_type": "code",
     "collapsed": false,
     "input": [],
     "language": "python",
     "metadata": {},
     "outputs": []
    }
   ],
   "metadata": {}
  }
 ]
}