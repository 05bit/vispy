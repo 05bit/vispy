{
 "metadata": {
  "name": "",
  "signature": "sha256:66264c5be58d2c773c6c1c95fb1a033ef7230989a64b40931df29deed3ee4278"
 },
 "nbformat": 3,
 "nbformat_minor": 0,
 "worksheets": [
  {
   "cells": [
    {
     "cell_type": "code",
     "collapsed": false,
     "input": [
      "import imp\n",
      "import numpy as np\n",
      "import vispy\n",
      "import vispy.gloo as gloo\n",
      "from vispy import app\n",
      "app.use_app('ipynb_webgl');"
     ],
     "language": "python",
     "metadata": {},
     "outputs": []
    },
    {
     "cell_type": "code",
     "collapsed": false,
     "input": [
      "vertex = \"\"\"\n",
      "attribute vec2 a_position;\n",
      "\n",
      "void main()\n",
      "{\n",
      "    gl_Position = vec4(a_position, 0, 1.0);\n",
      "}\n",
      "\"\"\"\n",
      "\n",
      "fragment = \"\"\"\n",
      "void main() {\n",
      "    gl_FragColor = vec4(1., 1., 1., 1.);\n",
      "}\n",
      "\"\"\""
     ],
     "language": "python",
     "metadata": {},
     "outputs": []
    },
    {
     "cell_type": "code",
     "collapsed": false,
     "input": [
      "program = vispy.gloo.Program(vertex, fragment)\n",
      "program['a_position'] = np.array([-.5, -.5, .5, -.5, .5, .5], \n",
      "                                 dtype=np.float32)"
     ],
     "language": "python",
     "metadata": {},
     "outputs": []
    },
    {
     "cell_type": "code",
     "collapsed": false,
     "input": [
      "c = vispy.app.Canvas(size=(500, 200))\n",
      "\n",
      "@c.connect\n",
      "def on_mouse_move(e):\n",
      "    x, y = e.pos\n",
      "    r = np.clip(x/float(c.size[0]), 0, 1)\n",
      "    g = np.clip(y/float(c.size[1]), 0, 1)\n",
      "    gloo.clear((r, g, 0., 1.))\n",
      "    c.update()\n",
      "        \n",
      "@c.connect\n",
      "def on_draw(e):\n",
      "    program.draw()\n",
      "\n",
      "c.show()"
     ],
     "language": "python",
     "metadata": {},
     "outputs": []
    },
    {
     "cell_type": "code",
     "collapsed": false,
     "input": [],
     "language": "python",
     "metadata": {},
     "outputs": []
    },
    {
     "cell_type": "code",
     "collapsed": false,
     "input": [],
     "language": "python",
     "metadata": {},
     "outputs": []
    }
   ],
   "metadata": {}
  }
 ]
}