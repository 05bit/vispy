{
 "metadata": {
  "name": "",
  "signature": "sha256:ea34b713698667967e183a388386479efdf121b94cbeba22e16c3f89d5f1432e"
 },
 "nbformat": 3,
 "nbformat_minor": 0,
 "worksheets": [
  {
   "cells": [
    {
     "cell_type": "code",
     "collapsed": false,
     "input": [
      "import imp\n",
      "import numpy as np\n",
      "import vispy\n",
      "import vispy.gloo as gloo\n",
      "from vispy import app\n",
      "import vispy.app.backends._ipynb_webgl\n",
      "imp.reload(vispy)\n",
      "vispy.app.backends._ipynb_webgl._prepare_js()\n",
      "app.use_app('ipynb_webgl');"
     ],
     "language": "python",
     "metadata": {},
     "outputs": []
    },
    {
     "cell_type": "code",
     "collapsed": false,
     "input": [
      "c = vispy.app.Canvas(size=(500, 200))\n",
      "@c.connect\n",
      "def on_mouse_move(e):\n",
      "    x, y = e.pos\n",
      "    r = np.clip(x/float(c.size[0]), 0, 1)\n",
      "    g = np.clip(y/float(c.size[1]), 0, 1)\n",
      "    gloo.clear((r, g, 0., 1.))\n",
      "    c.update()\n",
      "c.show()"
     ],
     "language": "python",
     "metadata": {},
     "outputs": []
    }
   ],
   "metadata": {}
  }
 ]
}