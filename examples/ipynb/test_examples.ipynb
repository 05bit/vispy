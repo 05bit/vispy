{
 "metadata": {
  "name": "",
  "signature": "sha256:fb61918d59e6079905086b7bdd08f49f84f881b4982b4914ecd12e8b9d4bc6cc"
 },
 "nbformat": 3,
 "nbformat_minor": 0,
 "worksheets": [
  {
   "cells": [
    {
     "cell_type": "code",
     "collapsed": false,
     "input": [
      "import vispy.app\n",
      "vispy.app.use_app('ipynb_webgl');"
     ],
     "language": "python",
     "metadata": {},
     "outputs": []
    },
    {
     "cell_type": "code",
     "collapsed": false,
     "input": [
      "import sys\n",
      "\n",
      "from vispy import gloo\n",
      "from vispy import app\n",
      "import numpy as np\n",
      "\n",
      "VERT_SHADER = \"\"\"\n",
      "attribute vec2 a_position;\n",
      "void main() {\n",
      "    gl_Position = vec4(a_position, 0.0, 1.0);\n",
      "    gl_PointSize = 10.0;\n",
      "}\n",
      "\"\"\"\n",
      "\n",
      "FRAG_SHADER = \"\"\"\n",
      "void main() {\n",
      "    gl_FragColor = vec4(1.0, 0.0, 0.0, 1.0);\n",
      "}\n",
      "\"\"\"\n",
      "\n",
      "\n",
      "class Canvas(app.Canvas):\n",
      "    def __init__(self):\n",
      "        app.Canvas.__init__(self, size=(800, 200), keys='interactive')\n",
      "        self.program = gloo.Program(VERT_SHADER, FRAG_SHADER)\n",
      "        data = np.random.uniform(-0.5, 0.5, size=(20, 2))\n",
      "        self.program['a_position'] = data.astype(np.float32)\n",
      "\n",
      "    def on_resize(self, event):\n",
      "        width, height = event.size\n",
      "        gloo.set_viewport(0, 0, width, height)\n",
      "        self.update()\n",
      "\n",
      "    def on_draw(self, event):\n",
      "        gloo.clear('white')\n",
      "        self.program.draw('points')\n",
      "\n",
      "if __name__ == '__main__':\n",
      "    c = Canvas()\n",
      "    c.show()"
     ],
     "language": "python",
     "metadata": {},
     "outputs": []
    },
    {
     "cell_type": "code",
     "collapsed": false,
     "input": [],
     "language": "python",
     "metadata": {},
     "outputs": []
    }
   ],
   "metadata": {}
  }
 ]
}